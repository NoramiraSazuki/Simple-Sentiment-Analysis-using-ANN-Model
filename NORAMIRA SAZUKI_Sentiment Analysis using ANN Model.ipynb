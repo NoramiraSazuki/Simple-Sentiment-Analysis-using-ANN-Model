{
 "cells": [
  {
   "cell_type": "markdown",
   "id": "976f5536",
   "metadata": {},
   "source": [
    "# 2) Project B: Sentiment Analysis using ANN architecture"
   ]
  },
  {
   "cell_type": "code",
   "execution_count": 42,
   "id": "ca7b2a76",
   "metadata": {},
   "outputs": [],
   "source": [
    "#Import required Libraries\n",
    "\n",
    "import pandas as pd\n",
    "import re\n",
    "from nltk.tokenize import word_tokenize\n",
    "from nltk.corpus import stopwords\n",
    "from sklearn.model_selection import train_test_split\n",
    "from sklearn.feature_extraction.text import CountVectorizer\n",
    "from keras.models import Sequential\n",
    "from keras.layers import Dense\n",
    "from keras.optimizers import Adam\n",
    "import numpy as np\n",
    "from sklearn.feature_extraction.text import TfidfVectorizer"
   ]
  },
  {
   "cell_type": "markdown",
   "id": "19dd33c2",
   "metadata": {},
   "source": [
    "A) Perform text processing - preprocessing and Word Embeddings"
   ]
  },
  {
   "cell_type": "code",
   "execution_count": 43,
   "id": "8edcdd2c",
   "metadata": {
    "scrolled": true
   },
   "outputs": [
    {
     "data": {
      "text/html": [
       "<div>\n",
       "<style scoped>\n",
       "    .dataframe tbody tr th:only-of-type {\n",
       "        vertical-align: middle;\n",
       "    }\n",
       "\n",
       "    .dataframe tbody tr th {\n",
       "        vertical-align: top;\n",
       "    }\n",
       "\n",
       "    .dataframe thead th {\n",
       "        text-align: right;\n",
       "    }\n",
       "</style>\n",
       "<table border=\"1\" class=\"dataframe\">\n",
       "  <thead>\n",
       "    <tr style=\"text-align: right;\">\n",
       "      <th></th>\n",
       "      <th>Text</th>\n",
       "      <th>Sentiment</th>\n",
       "      <th>Source</th>\n",
       "      <th>Date/Time</th>\n",
       "      <th>User ID</th>\n",
       "      <th>Location</th>\n",
       "      <th>Confidence Score</th>\n",
       "    </tr>\n",
       "  </thead>\n",
       "  <tbody>\n",
       "    <tr>\n",
       "      <th>0</th>\n",
       "      <td>I love this product!</td>\n",
       "      <td>Positive</td>\n",
       "      <td>Twitter</td>\n",
       "      <td>2023-06-15 09:23:14</td>\n",
       "      <td>@user123</td>\n",
       "      <td>New York</td>\n",
       "      <td>0.85</td>\n",
       "    </tr>\n",
       "    <tr>\n",
       "      <th>1</th>\n",
       "      <td>The service was terrible.</td>\n",
       "      <td>Negative</td>\n",
       "      <td>Yelp Reviews</td>\n",
       "      <td>2023-06-15 11:45:32</td>\n",
       "      <td>user456</td>\n",
       "      <td>Los Angeles</td>\n",
       "      <td>0.65</td>\n",
       "    </tr>\n",
       "    <tr>\n",
       "      <th>2</th>\n",
       "      <td>This movie is amazing!</td>\n",
       "      <td>Positive</td>\n",
       "      <td>IMDb</td>\n",
       "      <td>2023-06-15 14:10:22</td>\n",
       "      <td>moviefan789</td>\n",
       "      <td>London</td>\n",
       "      <td>0.92</td>\n",
       "    </tr>\n",
       "    <tr>\n",
       "      <th>3</th>\n",
       "      <td>I'm so disappointed with their customer support.</td>\n",
       "      <td>Negative</td>\n",
       "      <td>Online Forum</td>\n",
       "      <td>2023-06-15 17:35:11</td>\n",
       "      <td>forumuser1</td>\n",
       "      <td>Toronto</td>\n",
       "      <td>0.78</td>\n",
       "    </tr>\n",
       "    <tr>\n",
       "      <th>4</th>\n",
       "      <td>Just had the best meal of my life!</td>\n",
       "      <td>Positive</td>\n",
       "      <td>TripAdvisor</td>\n",
       "      <td>2023-06-16 08:50:59</td>\n",
       "      <td>foodie22</td>\n",
       "      <td>Paris</td>\n",
       "      <td>0.88</td>\n",
       "    </tr>\n",
       "  </tbody>\n",
       "</table>\n",
       "</div>"
      ],
      "text/plain": [
       "                                               Text Sentiment         Source  \\\n",
       "0                              I love this product!  Positive        Twitter   \n",
       "1                         The service was terrible.  Negative   Yelp Reviews   \n",
       "2                            This movie is amazing!  Positive           IMDb   \n",
       "3  I'm so disappointed with their customer support.  Negative   Online Forum   \n",
       "4                Just had the best meal of my life!  Positive    TripAdvisor   \n",
       "\n",
       "              Date/Time       User ID      Location  Confidence Score  \n",
       "0   2023-06-15 09:23:14      @user123      New York              0.85  \n",
       "1   2023-06-15 11:45:32       user456   Los Angeles              0.65  \n",
       "2   2023-06-15 14:10:22   moviefan789        London              0.92  \n",
       "3   2023-06-15 17:35:11    forumuser1       Toronto              0.78  \n",
       "4   2023-06-16 08:50:59      foodie22         Paris              0.88  "
      ]
     },
     "execution_count": 43,
     "metadata": {},
     "output_type": "execute_result"
    }
   ],
   "source": [
    "#A1) Import your dataset (sentiment_analysis.csv) \n",
    "\n",
    "# Import dataset\n",
    "ds = pd.read_csv('sentiment_analysis.csv', encoding=\"utf8\")\n",
    "\n",
    "# Display your dataset, show the full column to view all attributes\n",
    "pd.set_option('display.max_colwidth', None)\n",
    "ds.head()"
   ]
  },
  {
   "cell_type": "code",
   "execution_count": 44,
   "id": "b90cb61d",
   "metadata": {
    "scrolled": true
   },
   "outputs": [
    {
     "name": "stdout",
     "output_type": "stream",
     "text": [
      "<class 'pandas.core.frame.DataFrame'>\n",
      "RangeIndex: 96 entries, 0 to 95\n",
      "Data columns (total 7 columns):\n",
      " #   Column            Non-Null Count  Dtype  \n",
      "---  ------            --------------  -----  \n",
      " 0   Text              96 non-null     object \n",
      " 1   Sentiment         96 non-null     object \n",
      " 2   Source            96 non-null     object \n",
      " 3   Date/Time         96 non-null     object \n",
      " 4   User ID           96 non-null     object \n",
      " 5   Location          96 non-null     object \n",
      " 6   Confidence Score  96 non-null     float64\n",
      "dtypes: float64(1), object(6)\n",
      "memory usage: 5.4+ KB\n"
     ]
    }
   ],
   "source": [
    "ds.info()"
   ]
  },
  {
   "cell_type": "code",
   "execution_count": 45,
   "id": "4b1241e3",
   "metadata": {},
   "outputs": [],
   "source": [
    "#A We need only 2 columns for this works which are Text and Sentiment\n",
    "ds = ds.drop(['Source', 'Date/Time', 'User ID', 'Location', 'Confidence Score'], axis = 1)"
   ]
  },
  {
   "cell_type": "code",
   "execution_count": 46,
   "id": "a4ae6694",
   "metadata": {
    "scrolled": true
   },
   "outputs": [
    {
     "data": {
      "text/html": [
       "<div>\n",
       "<style scoped>\n",
       "    .dataframe tbody tr th:only-of-type {\n",
       "        vertical-align: middle;\n",
       "    }\n",
       "\n",
       "    .dataframe tbody tr th {\n",
       "        vertical-align: top;\n",
       "    }\n",
       "\n",
       "    .dataframe thead th {\n",
       "        text-align: right;\n",
       "    }\n",
       "</style>\n",
       "<table border=\"1\" class=\"dataframe\">\n",
       "  <thead>\n",
       "    <tr style=\"text-align: right;\">\n",
       "      <th></th>\n",
       "      <th>Text</th>\n",
       "      <th>Sentiment</th>\n",
       "    </tr>\n",
       "  </thead>\n",
       "  <tbody>\n",
       "    <tr>\n",
       "      <th>0</th>\n",
       "      <td>I love this product!</td>\n",
       "      <td>Positive</td>\n",
       "    </tr>\n",
       "    <tr>\n",
       "      <th>1</th>\n",
       "      <td>The service was terrible.</td>\n",
       "      <td>Negative</td>\n",
       "    </tr>\n",
       "    <tr>\n",
       "      <th>2</th>\n",
       "      <td>This movie is amazing!</td>\n",
       "      <td>Positive</td>\n",
       "    </tr>\n",
       "    <tr>\n",
       "      <th>3</th>\n",
       "      <td>I'm so disappointed with their customer support.</td>\n",
       "      <td>Negative</td>\n",
       "    </tr>\n",
       "    <tr>\n",
       "      <th>4</th>\n",
       "      <td>Just had the best meal of my life!</td>\n",
       "      <td>Positive</td>\n",
       "    </tr>\n",
       "  </tbody>\n",
       "</table>\n",
       "</div>"
      ],
      "text/plain": [
       "                                               Text Sentiment\n",
       "0                              I love this product!  Positive\n",
       "1                         The service was terrible.  Negative\n",
       "2                            This movie is amazing!  Positive\n",
       "3  I'm so disappointed with their customer support.  Negative\n",
       "4                Just had the best meal of my life!  Positive"
      ]
     },
     "execution_count": 46,
     "metadata": {},
     "output_type": "execute_result"
    }
   ],
   "source": [
    "ds.head()"
   ]
  },
  {
   "cell_type": "code",
   "execution_count": 47,
   "id": "031cf2dd",
   "metadata": {},
   "outputs": [
    {
     "name": "stdout",
     "output_type": "stream",
     "text": [
      "<class 'pandas.core.frame.DataFrame'>\n",
      "RangeIndex: 96 entries, 0 to 95\n",
      "Data columns (total 2 columns):\n",
      " #   Column     Non-Null Count  Dtype \n",
      "---  ------     --------------  ----- \n",
      " 0   Text       96 non-null     object\n",
      " 1   Sentiment  96 non-null     object\n",
      "dtypes: object(2)\n",
      "memory usage: 1.6+ KB\n"
     ]
    }
   ],
   "source": [
    "ds.info()"
   ]
  },
  {
   "cell_type": "code",
   "execution_count": 48,
   "id": "dae20d2b",
   "metadata": {},
   "outputs": [
    {
     "data": {
      "text/plain": [
       "0                                               I love this product!\n",
       "1                                          The service was terrible.\n",
       "2                                             This movie is amazing!\n",
       "3                   I'm so disappointed with their customer support.\n",
       "4                                 Just had the best meal of my life!\n",
       "                                   ...                              \n",
       "91      Just had the most amazing vacation! I can't wait to go back.\n",
       "92    The food at this restaurant was awful. Never going back again!\n",
       "93        I can't stop listening to this song. It's my new favorite!\n",
       "94                Their website is so confusing and poorly designed.\n",
       "95    I had an incredible experience at the theme park. So much fun!\n",
       "Name: Text, Length: 96, dtype: object"
      ]
     },
     "execution_count": 48,
     "metadata": {},
     "output_type": "execute_result"
    }
   ],
   "source": [
    "ds['Text']"
   ]
  },
  {
   "cell_type": "code",
   "execution_count": 49,
   "id": "86cfe570",
   "metadata": {},
   "outputs": [],
   "source": [
    "#Perform necessary pre-processing activities on textual data in the Text column\n",
    "\n",
    "#preprocess text\n",
    "# Load stopwords list\n",
    "\n",
    "from nltk.corpus import stopwords\n",
    "import re\n",
    "import string\n",
    "\n",
    "stopwords_list = set(stopwords.words('english'))\n",
    "\n",
    "# Word tokenize\n",
    "ds['Text'] = ds['Text'].apply(word_tokenize)\n",
    "\n",
    "# Remove certain stopwords and lowercase each word\n",
    "ds['Text'] = ds['Text'].apply(lambda x: [word.lower() for word in x if word.lower() not in stopwords_list])\n",
    "\n",
    "# Convert the list of tokens back to sentences\n",
    "ds['Text'] = ds['Text'].apply(lambda x: \" \".join(x))\n",
    "\n",
    "# Remove punctuations\n",
    "ds['Text'] = [re.sub(r'[!@#$%^&*()_+<>?:\"{}|[];~`|]', \" \", text) for text in ds['Text']]\n",
    "ds['Text'] = [re.sub(r'[^a-zA-Z]',' ', text) for text in ds['Text']]\n",
    "\n",
    "# Remove numbers\n",
    "ds['Text'] = [re.sub(r'[0-9]', \" \", text) for text in ds['Text']]\n",
    "\n",
    "# Remove non-ASCII characters\n",
    "ds['Text'] = [re.sub(r'[^\\x00-\\x7f]', \" \", text) for text in ds['Text']]\n"
   ]
  },
  {
   "cell_type": "code",
   "execution_count": 50,
   "id": "63f454b8",
   "metadata": {},
   "outputs": [
    {
     "data": {
      "text/html": [
       "<div>\n",
       "<style scoped>\n",
       "    .dataframe tbody tr th:only-of-type {\n",
       "        vertical-align: middle;\n",
       "    }\n",
       "\n",
       "    .dataframe tbody tr th {\n",
       "        vertical-align: top;\n",
       "    }\n",
       "\n",
       "    .dataframe thead th {\n",
       "        text-align: right;\n",
       "    }\n",
       "</style>\n",
       "<table border=\"1\" class=\"dataframe\">\n",
       "  <thead>\n",
       "    <tr style=\"text-align: right;\">\n",
       "      <th></th>\n",
       "      <th>Text</th>\n",
       "      <th>Sentiment</th>\n",
       "    </tr>\n",
       "  </thead>\n",
       "  <tbody>\n",
       "    <tr>\n",
       "      <th>0</th>\n",
       "      <td>love product</td>\n",
       "      <td>Positive</td>\n",
       "    </tr>\n",
       "    <tr>\n",
       "      <th>1</th>\n",
       "      <td>service terrible</td>\n",
       "      <td>Negative</td>\n",
       "    </tr>\n",
       "    <tr>\n",
       "      <th>2</th>\n",
       "      <td>movie amazing</td>\n",
       "      <td>Positive</td>\n",
       "    </tr>\n",
       "    <tr>\n",
       "      <th>3</th>\n",
       "      <td>m disappointed customer support</td>\n",
       "      <td>Negative</td>\n",
       "    </tr>\n",
       "    <tr>\n",
       "      <th>4</th>\n",
       "      <td>best meal life</td>\n",
       "      <td>Positive</td>\n",
       "    </tr>\n",
       "  </tbody>\n",
       "</table>\n",
       "</div>"
      ],
      "text/plain": [
       "                                 Text Sentiment\n",
       "0                      love product    Positive\n",
       "1                  service terrible    Negative\n",
       "2                     movie amazing    Positive\n",
       "3   m disappointed customer support    Negative\n",
       "4                    best meal life    Positive"
      ]
     },
     "execution_count": 50,
     "metadata": {},
     "output_type": "execute_result"
    }
   ],
   "source": [
    "pd.set_option('display.max_colwidth', None)\n",
    "ds.head()"
   ]
  },
  {
   "cell_type": "code",
   "execution_count": 51,
   "id": "51655191-3b71-488f-8ab3-19eb9c78229c",
   "metadata": {},
   "outputs": [
    {
     "data": {
      "text/html": [
       "<div>\n",
       "<style scoped>\n",
       "    .dataframe tbody tr th:only-of-type {\n",
       "        vertical-align: middle;\n",
       "    }\n",
       "\n",
       "    .dataframe tbody tr th {\n",
       "        vertical-align: top;\n",
       "    }\n",
       "\n",
       "    .dataframe thead th {\n",
       "        text-align: right;\n",
       "    }\n",
       "</style>\n",
       "<table border=\"1\" class=\"dataframe\">\n",
       "  <thead>\n",
       "    <tr style=\"text-align: right;\">\n",
       "      <th></th>\n",
       "      <th>Text</th>\n",
       "      <th>Sentiment</th>\n",
       "    </tr>\n",
       "  </thead>\n",
       "  <tbody>\n",
       "    <tr>\n",
       "      <th>15</th>\n",
       "      <td>website confusing poorly designed</td>\n",
       "      <td>Negative</td>\n",
       "    </tr>\n",
       "    <tr>\n",
       "      <th>53</th>\n",
       "      <td>terrible experience delivery service   late unprofessional</td>\n",
       "      <td>Negative</td>\n",
       "    </tr>\n",
       "    <tr>\n",
       "      <th>73</th>\n",
       "      <td>customer service store outstanding   truly care customers</td>\n",
       "      <td>Positive</td>\n",
       "    </tr>\n",
       "    <tr>\n",
       "      <th>64</th>\n",
       "      <td>roller coaster theme park thrilling experience   must try</td>\n",
       "      <td>Positive</td>\n",
       "    </tr>\n",
       "    <tr>\n",
       "      <th>89</th>\n",
       "      <td>book made feel inspired   highly recommended</td>\n",
       "      <td>Positive</td>\n",
       "    </tr>\n",
       "  </tbody>\n",
       "</table>\n",
       "</div>"
      ],
      "text/plain": [
       "                                                            Text Sentiment\n",
       "15                           website confusing poorly designed    Negative\n",
       "53  terrible experience delivery service   late unprofessional    Negative\n",
       "73   customer service store outstanding   truly care customers    Positive\n",
       "64   roller coaster theme park thrilling experience   must try    Positive\n",
       "89                book made feel inspired   highly recommended    Positive"
      ]
     },
     "execution_count": 51,
     "metadata": {},
     "output_type": "execute_result"
    }
   ],
   "source": [
    "ds.sample(5)"
   ]
  },
  {
   "cell_type": "code",
   "execution_count": 95,
   "id": "86baf13f",
   "metadata": {},
   "outputs": [
    {
     "data": {
      "text/html": [
       "<div>\n",
       "<style scoped>\n",
       "    .dataframe tbody tr th:only-of-type {\n",
       "        vertical-align: middle;\n",
       "    }\n",
       "\n",
       "    .dataframe tbody tr th {\n",
       "        vertical-align: top;\n",
       "    }\n",
       "\n",
       "    .dataframe thead th {\n",
       "        text-align: right;\n",
       "    }\n",
       "</style>\n",
       "<table border=\"1\" class=\"dataframe\">\n",
       "  <thead>\n",
       "    <tr style=\"text-align: right;\">\n",
       "      <th></th>\n",
       "      <th>Text</th>\n",
       "      <th>Sentiment</th>\n",
       "    </tr>\n",
       "  </thead>\n",
       "  <tbody>\n",
       "    <tr>\n",
       "      <th>0</th>\n",
       "      <td>love product</td>\n",
       "      <td>1</td>\n",
       "    </tr>\n",
       "    <tr>\n",
       "      <th>1</th>\n",
       "      <td>service terrible</td>\n",
       "      <td>0</td>\n",
       "    </tr>\n",
       "    <tr>\n",
       "      <th>2</th>\n",
       "      <td>movie amazing</td>\n",
       "      <td>1</td>\n",
       "    </tr>\n",
       "    <tr>\n",
       "      <th>3</th>\n",
       "      <td>disappointed customer support</td>\n",
       "      <td>0</td>\n",
       "    </tr>\n",
       "    <tr>\n",
       "      <th>4</th>\n",
       "      <td>best meal life</td>\n",
       "      <td>1</td>\n",
       "    </tr>\n",
       "  </tbody>\n",
       "</table>\n",
       "</div>"
      ],
      "text/plain": [
       "                            Text  Sentiment\n",
       "0                   love product          1\n",
       "1               service terrible          0\n",
       "2                  movie amazing          1\n",
       "3  disappointed customer support          0\n",
       "4                 best meal life          1"
      ]
     },
     "execution_count": 95,
     "metadata": {},
     "output_type": "execute_result"
    }
   ],
   "source": [
    "#AConvert categorical data in the Sentiment column into numerical representation\n",
    "\n",
    "from sklearn.preprocessing import LabelEncoder\n",
    "\n",
    "le = LabelEncoder()\n",
    "ds['Sentiment'] = le.fit_transform(df['Sentiment'])\n",
    "ds.head()"
   ]
  },
  {
   "cell_type": "code",
   "execution_count": 96,
   "id": "4c08f6ab",
   "metadata": {},
   "outputs": [
    {
     "data": {
      "text/plain": [
       "0     1\n",
       "1     0\n",
       "2     1\n",
       "3     0\n",
       "4     1\n",
       "     ..\n",
       "91    1\n",
       "92    0\n",
       "93    1\n",
       "94    0\n",
       "95    1\n",
       "Name: Sentiment, Length: 96, dtype: int32"
      ]
     },
     "execution_count": 96,
     "metadata": {},
     "output_type": "execute_result"
    }
   ],
   "source": [
    "#define input and output\n",
    "x = ds['Text']\n",
    "y = ds['Sentiment']\n",
    "y"
   ]
  },
  {
   "cell_type": "code",
   "execution_count": 97,
   "id": "0ce46a63",
   "metadata": {},
   "outputs": [
    {
     "data": {
      "text/plain": [
       "0                                  love product\n",
       "1                              service terrible\n",
       "2                                 movie amazing\n",
       "3                 disappointed customer support\n",
       "4                                best meal life\n",
       "                        ...                    \n",
       "91           amazing vacation ca n wait go back\n",
       "92       food restaurant awful never going back\n",
       "93        ca n stop listening song new favorite\n",
       "94            website confusing poorly designed\n",
       "95    incredible experience theme park much fun\n",
       "Name: Text, Length: 96, dtype: object"
      ]
     },
     "execution_count": 97,
     "metadata": {},
     "output_type": "execute_result"
    }
   ],
   "source": [
    "x"
   ]
  },
  {
   "cell_type": "code",
   "execution_count": 98,
   "id": "69b617ce",
   "metadata": {},
   "outputs": [
    {
     "data": {
      "text/plain": [
       "array([[0., 0., 0., ..., 0., 0., 0.],\n",
       "       [0., 0., 0., ..., 0., 0., 0.],\n",
       "       [0., 0., 0., ..., 0., 0., 0.],\n",
       "       ...,\n",
       "       [0., 0., 0., ..., 0., 0., 0.],\n",
       "       [0., 0., 0., ..., 0., 0., 0.],\n",
       "       [0., 0., 0., ..., 0., 0., 0.]])"
      ]
     },
     "execution_count": 98,
     "metadata": {},
     "output_type": "execute_result"
    }
   ],
   "source": [
    "#A5) Use tf-idf technique to perform word embedding on textual data in the Text column\n",
    "\n",
    "# Vectorize the text data\n",
    "vect = TfidfVectorizer().fit(x)\n",
    "x = vect.transform(x)\n",
    "\n",
    "# Convert the sparse matrix to a dense array\n",
    "x_array = x.toarray()\n",
    "x_array"
   ]
  },
  {
   "cell_type": "code",
   "execution_count": 101,
   "id": "631245bd",
   "metadata": {},
   "outputs": [],
   "source": [
    "#A7) Split the ready data into Training and Test sets\n",
    "\n",
    "# Split dataset\n",
    "from sklearn.model_selection import train_test_split\n",
    "\n",
    "x_train, x_test, y_train, y_test = train_test_split(x_array, y, test_size=0.2)"
   ]
  },
  {
   "cell_type": "code",
   "execution_count": 102,
   "id": "89af4780",
   "metadata": {},
   "outputs": [
    {
     "data": {
      "text/plain": [
       "(76, 229)"
      ]
     },
     "execution_count": 102,
     "metadata": {},
     "output_type": "execute_result"
    }
   ],
   "source": [
    "x_train.shape"
   ]
  },
  {
   "cell_type": "code",
   "execution_count": 103,
   "id": "061889f6",
   "metadata": {},
   "outputs": [
    {
     "data": {
      "text/plain": [
       "(20, 229)"
      ]
     },
     "execution_count": 103,
     "metadata": {},
     "output_type": "execute_result"
    }
   ],
   "source": [
    "x_test.shape"
   ]
  },
  {
   "cell_type": "markdown",
   "id": "e4af9b3d",
   "metadata": {},
   "source": [
    "B) Build a classification prediction model using ANN model"
   ]
  },
  {
   "cell_type": "code",
   "execution_count": 104,
   "id": "a7c515ff",
   "metadata": {},
   "outputs": [
    {
     "name": "stdout",
     "output_type": "stream",
     "text": [
      "Model: \"sequential\"\n",
      "_________________________________________________________________\n",
      " Layer (type)                Output Shape              Param #   \n",
      "=================================================================\n",
      " dense (Dense)               (None, 128)               29440     \n",
      "                                                                 \n",
      " dense_1 (Dense)             (None, 64)                8256      \n",
      "                                                                 \n",
      " dense_2 (Dense)             (None, 32)                2080      \n",
      "                                                                 \n",
      " dense_3 (Dense)             (None, 2)                 66        \n",
      "                                                                 \n",
      "=================================================================\n",
      "Total params: 39842 (155.63 KB)\n",
      "Trainable params: 39842 (155.63 KB)\n",
      "Non-trainable params: 0 (0.00 Byte)\n",
      "_________________________________________________________________\n"
     ]
    }
   ],
   "source": [
    "#B3) Build an ANN classification model\n",
    "# Build the model - ANN\n",
    "\n",
    "model = Sequential() #call in the keras\n",
    "model.add(Dense(128 , input_dim = 229, activation='relu')) #hidden layer one | dense=fully connected\n",
    "model.add(Dense(64, activation='relu')) #hidden layer two\n",
    "model.add(Dense(32, activation='relu')) #hidden layer three\n",
    "model.add(Dense(2, activation = 'sigmoid')) #output \n",
    "\n",
    "# Prints out the model details\n",
    "model.summary()"
   ]
  },
  {
   "cell_type": "code",
   "execution_count": 105,
   "id": "0fa20a3d",
   "metadata": {},
   "outputs": [],
   "source": [
    "#specify optimezer, loss and metrics\n",
    "model.compile(optimizer = 'adam', loss = 'sparse_categorical_crossentropy', metrics = ['acc'])"
   ]
  },
  {
   "cell_type": "code",
   "execution_count": 106,
   "id": "8008d240",
   "metadata": {},
   "outputs": [
    {
     "name": "stdout",
     "output_type": "stream",
     "text": [
      "Epoch 1/10\n",
      "3/3 [==============================] - 1s 7ms/step - loss: 0.6887 - acc: 0.5921\n",
      "Epoch 2/10\n",
      "3/3 [==============================] - 0s 4ms/step - loss: 0.6668 - acc: 0.6842\n",
      "Epoch 3/10\n",
      "3/3 [==============================] - 0s 5ms/step - loss: 0.6483 - acc: 0.6974\n",
      "Epoch 4/10\n",
      "3/3 [==============================] - 0s 4ms/step - loss: 0.6288 - acc: 0.7632\n",
      "Epoch 5/10\n",
      "3/3 [==============================] - 0s 4ms/step - loss: 0.6078 - acc: 0.8158\n",
      "Epoch 6/10\n",
      "3/3 [==============================] - 0s 4ms/step - loss: 0.5827 - acc: 0.9342\n",
      "Epoch 7/10\n",
      "3/3 [==============================] - 0s 5ms/step - loss: 0.5543 - acc: 0.9868\n",
      "Epoch 8/10\n",
      "3/3 [==============================] - 0s 4ms/step - loss: 0.5186 - acc: 0.9868\n",
      "Epoch 9/10\n",
      "3/3 [==============================] - 0s 4ms/step - loss: 0.4790 - acc: 0.9868\n",
      "Epoch 10/10\n",
      "3/3 [==============================] - 0s 4ms/step - loss: 0.4327 - acc: 1.0000\n"
     ]
    }
   ],
   "source": [
    "#train model\n",
    "history = model.fit(x_train, y_train, epochs = 10)"
   ]
  },
  {
   "cell_type": "code",
   "execution_count": 108,
   "id": "016d52ff",
   "metadata": {},
   "outputs": [
    {
     "name": "stdout",
     "output_type": "stream",
     "text": [
      "3/3 [==============================] - 0s 4ms/step - loss: 0.3931 - acc: 1.0000\n",
      "Train Accuracy:  1.0\n"
     ]
    }
   ],
   "source": [
    "#Evaluate train set\n",
    "_, train_accuracy = model.evaluate(x_train, y_train)\n",
    "print('Train Accuracy: ', train_accuracy)"
   ]
  },
  {
   "cell_type": "code",
   "execution_count": 107,
   "id": "9df927db",
   "metadata": {
    "scrolled": true
   },
   "outputs": [
    {
     "name": "stdout",
     "output_type": "stream",
     "text": [
      "1/1 [==============================] - 0s 212ms/step - loss: 0.4973 - acc: 0.8500\n",
      "Test Accuracy:  0.8500000238418579\n"
     ]
    }
   ],
   "source": [
    "#Evaluate test set\n",
    "_, accuracy = model.evaluate(x_test, y_test)\n",
    "print('Test Accuracy: ', accuracy)"
   ]
  },
  {
   "cell_type": "markdown",
   "id": "4fb279bf",
   "metadata": {},
   "source": [
    "B4) Compare and discuss the training accuracy and testing accuracy. What hyperparameter can be used to tune the model? Give at least three. \n",
    "\n",
    "The accuracy score for train data set = 1.0\n",
    "The accuracy score for test data set = 0.85\n",
    "\n",
    "For this dataframe, an accuracy score of 85% gained by the test data can be considered as acceptable. However, there is a room for improvement, where we can reduce this by \n",
    "-adding more layer\n",
    "-adjusting the number of nodes in every layer\n",
    "-adding batch size and learning rate\n",
    "-and adjusting the epochs\n",
    "\n",
    "However, we have to take our machine source into account, as more dense layer added will consume a lot of computational power. This might/could be prevented by intorducing partially dense layer to the model. "
   ]
  },
  {
   "cell_type": "code",
   "execution_count": 117,
   "id": "c59c9c0b",
   "metadata": {},
   "outputs": [
    {
     "name": "stdout",
     "output_type": "stream",
     "text": [
      "1/1 [==============================] - 0s 25ms/step\n",
      "Prediction:  [[0.48935848 0.4843618 ]]\n",
      "Index:  0\n",
      "Class:  ['Negative']\n"
     ]
    }
   ],
   "source": [
    "#B5) Use the model to predict the sentiment of the text :\n",
    "#\"The quality of customer service was exceptionally poor\"\n",
    "\n",
    "#predict for new data\n",
    "prediction = model.predict(vect.transform(['The quality of customer service was exceptionally poor']).toarray())\n",
    "print('Prediction: ', prediction)\n",
    "\n",
    "#index of large value\n",
    "idx = np.argmax(prediction)\n",
    "\n",
    "#print index\n",
    "print('Index: ', idx)\n",
    "print('Class: ', le.inverse_transform([idx]))"
   ]
  },
  {
   "cell_type": "code",
   "execution_count": 118,
   "id": "fb01e6f0",
   "metadata": {},
   "outputs": [
    {
     "name": "stdout",
     "output_type": "stream",
     "text": [
      "1/1 [==============================] - 0s 23ms/step\n",
      "Prediction:  [[0.32663974 0.6438481 ]]\n",
      "Index:  1\n",
      "Class:  ['Positive']\n"
     ]
    }
   ],
   "source": [
    "#B5) Use the model to predict the sentiment of the text :\n",
    "#\"The quality of customer service wasexceptionally poor\"\n",
    "\n",
    "#predict for new data\n",
    "prediction = model.predict(vect.transform(['This book made me feel inspired. Highly recommended!']).toarray())\n",
    "print('Prediction: ', prediction)\n",
    "\n",
    "#index of large value\n",
    "idx = np.argmax(prediction)\n",
    "\n",
    "#print index\n",
    "print('Index: ', idx)\n",
    "print('Class: ', le.inverse_transform([idx]))"
   ]
  },
  {
   "cell_type": "code",
   "execution_count": null,
   "id": "f605d6a0",
   "metadata": {},
   "outputs": [],
   "source": []
  }
 ],
 "metadata": {
  "kernelspec": {
   "display_name": "Python 3 (ipykernel)",
   "language": "python",
   "name": "python3"
  },
  "language_info": {
   "codemirror_mode": {
    "name": "ipython",
    "version": 3
   },
   "file_extension": ".py",
   "mimetype": "text/x-python",
   "name": "python",
   "nbconvert_exporter": "python",
   "pygments_lexer": "ipython3",
   "version": "3.10.9"
  }
 },
 "nbformat": 4,
 "nbformat_minor": 5
}
